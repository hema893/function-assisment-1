{
 "cells": [
  {
   "cell_type": "code",
   "execution_count": null,
   "id": "f3abec08-2fbc-4f8c-a260-3803212ebd83",
   "metadata": {},
   "outputs": [],
   "source": [
    "# What is difference between a function and a method in python?"
   ]
  },
  {
   "cell_type": "code",
   "execution_count": null,
   "id": "62fd02c2-1106-4a8a-a05a-c2472a5954e4",
   "metadata": {},
   "outputs": [],
   "source": [
    "FUNCTION: Independent block of code.\n",
    "METHOD: Function tied to an object(inside a class)."
   ]
  },
  {
   "cell_type": "code",
   "execution_count": null,
   "id": "7349488a-4243-474d-8782-0f34488bcaba",
   "metadata": {},
   "outputs": [],
   "source": [
    "def add(a, b):\n",
    "    return a + b      #function\n",
    "\n",
    "#method\n",
    "numbers = [1, 2, 3]\n",
    "numbers.appened(4) # 'append' is a method for list objects\n",
    "    "
   ]
  },
  {
   "cell_type": "code",
   "execution_count": null,
   "id": "e37f221b-3f7f-4496-9b3a-eab58ccd4dd3",
   "metadata": {},
   "outputs": [],
   "source": [
    "# Eplain the function arguments and parameters in python "
   ]
  },
  {
   "cell_type": "code",
   "execution_count": null,
   "id": "24b58133-e174-42c7-8053-3b0afa6ed4bd",
   "metadata": {},
   "outputs": [],
   "source": [
    "In python, parameters are the variables listed in a function's definition, and arguments are the actual values passed to the\n",
    "function when it called."
   ]
  },
  {
   "cell_type": "code",
   "execution_count": null,
   "id": "c3221027-3df7-45fb-8d9c-dfa498c0b19b",
   "metadata": {},
   "outputs": [],
   "source": [
    "def greet(name): # 'name' is a parameter\n",
    "    print(\"hello\" , name)\n",
    "greet(\"ali\") # \"ali\" is an argument"
   ]
  },
  {
   "cell_type": "code",
   "execution_count": null,
   "id": "b9875517-94b5-42ae-9023-998415433b43",
   "metadata": {},
   "outputs": [],
   "source": [
    "# What are the difference ways to define and call a function in python?"
   ]
  },
  {
   "cell_type": "code",
   "execution_count": null,
   "id": "8e512697-7653-438a-88e0-00235024cbc7",
   "metadata": {},
   "outputs": [],
   "source": [
    "In python, you can define a function using def or lambda, and call it by using its name followed by parentheses().\n",
    "Ways to define and call:\n",
    "1. Using def:\n",
    "python\n",
    "def add(a, b):\n",
    "    return a + b\n",
    "\n",
    "print(add(2, 3) ) #function call\n",
    "\n",
    "2. Using lambda:\n",
    "python\n",
    "add = lambda a, b: a + b\n",
    "print(add,(2, 3)) #function call"
   ]
  },
  {
   "cell_type": "code",
   "execution_count": null,
   "id": "93afdae5-af85-4357-b3e2-ee440d63738d",
   "metadata": {},
   "outputs": [],
   "source": [
    "# What is the purpose of the'return' statment in a python function?"
   ]
  },
  {
   "cell_type": "code",
   "execution_count": null,
   "id": "9dae661e-ddba-426a-a8a2-ff65ec548620",
   "metadata": {},
   "outputs": [],
   "source": [
    "The return statment in python is used to send a value back from a function to the caller."
   ]
  },
  {
   "cell_type": "code",
   "execution_count": 36,
   "id": "98ee9edc-2f88-4f3b-9275-99b450c6c0a8",
   "metadata": {},
   "outputs": [],
   "source": [
    "def square(x):\n",
    "    return x * x\n",
    "result = square(4) "
   ]
  },
  {
   "cell_type": "code",
   "execution_count": null,
   "id": "cf8260a4-b39f-4b71-bee7-fad906943cdd",
   "metadata": {},
   "outputs": [],
   "source": [
    "# What are iterators in python and how do they differ from iterables?"
   ]
  },
  {
   "cell_type": "code",
   "execution_count": null,
   "id": "6a73ccd8-78b0-471c-b96e-fee961e622db",
   "metadata": {},
   "outputs": [],
   "source": [
    "An iterator is an object that can be used to loop through data one element at a time using next(), while an iterable is any object you can loop over.\n",
    "(like lists, strings)."
   ]
  },
  {
   "cell_type": "code",
   "execution_count": 32,
   "id": "9d47ae12-74ee-4cfe-9df1-b723205d614e",
   "metadata": {},
   "outputs": [
    {
     "name": "stdout",
     "output_type": "stream",
     "text": [
      "1\n"
     ]
    }
   ],
   "source": [
    "nums = [1, 2, 3]             \n",
    "it = iter(nums)              \n",
    "print(next(it))              "
   ]
  },
  {
   "cell_type": "code",
   "execution_count": null,
   "id": "cbce0dfe-7a5c-4aeb-8c69-3bedcd53d2ef",
   "metadata": {},
   "outputs": [],
   "source": [
    "# Explain the concpet of generators in python and how they are defined."
   ]
  },
  {
   "cell_type": "code",
   "execution_count": null,
   "id": "99771d07-3411-4083-9263-4af83b481f45",
   "metadata": {},
   "outputs": [],
   "source": [
    "Genertores in python are special function that return an iterator using the yeild keyword instead of return.\n",
    "key points:\n",
    ". generate values one at a time(lazy evalution).\n",
    ". more memory efficient than returning a full list."
   ]
  },
  {
   "cell_type": "code",
   "execution_count": null,
   "id": "ef0c90c3-77f2-4abd-8b1a-a2e37144faa1",
   "metadata": {},
   "outputs": [],
   "source": [
    "def even_numbers():\n",
    "     for i in range(1, 6):\n",
    "         if i % 2 == 0:\n",
    "             yeild i\n",
    "for num in even_numbers():\n",
    "    print(num)\n",
    " "
   ]
  },
  {
   "cell_type": "code",
   "execution_count": null,
   "id": "8c58bfd7-3379-452f-8bcd-5f4598b5fe71",
   "metadata": {},
   "outputs": [],
   "source": [
    "# What are the advantages of using generators over regular functions?"
   ]
  },
  {
   "cell_type": "code",
   "execution_count": null,
   "id": "33db5fe7-2531-4373-a082-6a2017f9e0e3",
   "metadata": {},
   "outputs": [],
   "source": [
    "Advantages of generatores over Regular functions:\n",
    "1. Memory Efficent- Yield values one at the time, not all at once.\n",
    "2. Lazy Evalution- compute values only when needed.\n",
    "3. Faster startup- start producing results immediately.\n",
    "4. Simpler iteratores- cleaner code using yeild.\n",
    "5. better for pipelines- easily chain operations."
   ]
  },
  {
   "cell_type": "code",
   "execution_count": 1,
   "id": "5230ea54-4d4b-41a6-8320-35cc6b61d05e",
   "metadata": {},
   "outputs": [
    {
     "name": "stdout",
     "output_type": "stream",
     "text": [
      "1\n",
      "2\n",
      "3\n"
     ]
    }
   ],
   "source": [
    "def count_up_to (n):\n",
    "    i = 1\n",
    "    while i <= n:\n",
    "        yield i\n",
    "        i += 1\n",
    "\n",
    "for num in count_up_to(3):\n",
    "    print(num)"
   ]
  },
  {
   "cell_type": "code",
   "execution_count": null,
   "id": "e67484d5-dd78-4db7-bd7f-db54952fce16",
   "metadata": {},
   "outputs": [],
   "source": [
    "# What is a lambda function in python and when is it typically used?"
   ]
  },
  {
   "cell_type": "code",
   "execution_count": null,
   "id": "1f8e8565-a7ae-4c37-9f00-6741c87a2060",
   "metadata": {},
   "outputs": [],
   "source": [
    "A lambda function in python is a small,anonymous function defined using the lambda keyword.\n",
    "\n",
    "lambda arguments: expression"
   ]
  },
  {
   "cell_type": "code",
   "execution_count": 4,
   "id": "4d5a1985-9dc3-4dcc-abc9-928c66d632de",
   "metadata": {},
   "outputs": [
    {
     "name": "stdout",
     "output_type": "stream",
     "text": [
      "25\n"
     ]
    }
   ],
   "source": [
    "square = lambda x: x * x\n",
    "print(square(5))"
   ]
  },
  {
   "cell_type": "code",
   "execution_count": null,
   "id": "51d54828-fff2-4965-b5c3-96a9e3d0f20f",
   "metadata": {},
   "outputs": [],
   "source": [
    "Lambda functions are used for short, throwaway function-commonly with functions like map(),fillter(),or sorted()"
   ]
  },
  {
   "cell_type": "code",
   "execution_count": null,
   "id": "67f107b7-230a-4d6a-abcd-835807a95ac4",
   "metadata": {},
   "outputs": [],
   "source": [
    "# Explain the purpose and usage of the 'map()','reduce()',and'filter()'function in python?"
   ]
  },
  {
   "cell_type": "code",
   "execution_count": null,
   "id": "6630f3ba-01e7-434d-8224-c3a4fca1e1b6",
   "metadata": {},
   "outputs": [],
   "source": [
    ".map(): Applies a function to each item in an iterable.\n",
    "map(lambda x: x*2, [1, 2, 3]) [2, 4, 6]\n",
    ".filter(): filters item based on a condition.\n",
    "filter(lambda x: x%2 == 0, [1, 2, 3]) [2]\n",
    ".reduce():reduce an iterable to a single value using a function.\n",
    "reduce(lambda x, y; x+y, [1, 2, 3]) 6\n",
    "                          "
   ]
  },
  {
   "cell_type": "markdown",
   "id": "0b8a9fad-6a49-4498-a665-c5efc54b0b56",
   "metadata": {},
   "source": [
    "                                                    PRATICAL QUESTION"
   ]
  },
  {
   "cell_type": "code",
   "execution_count": null,
   "id": "5b424aca-71aa-429b-8943-613f44e3707d",
   "metadata": {},
   "outputs": [],
   "source": [
    "# Write a python function that takes a list of numbers are as input and returns the sum of all even numbers in list."
   ]
  },
  {
   "cell_type": "code",
   "execution_count": 38,
   "id": "1c37fe63-5b9e-4cce-865b-a158f4634f56",
   "metadata": {},
   "outputs": [],
   "source": [
    "def sum_even(numbers):\n",
    "    return sum(x for x in numbers if x % 2 == 0)"
   ]
  },
  {
   "cell_type": "code",
   "execution_count": 39,
   "id": "9933a759-258e-41a6-b92b-5e4351530417",
   "metadata": {},
   "outputs": [
    {
     "name": "stdout",
     "output_type": "stream",
     "text": [
      "12\n"
     ]
    }
   ],
   "source": [
    "print(sum_even([1, 2, 3, 4, 5, 6]))"
   ]
  },
  {
   "cell_type": "code",
   "execution_count": null,
   "id": "5aaab19b-cfcc-48c0-b092-b47b5dcdbf3a",
   "metadata": {},
   "outputs": [],
   "source": [
    "# Create a python function that accepts a string and returns the reverse of that string."
   ]
  },
  {
   "cell_type": "code",
   "execution_count": 48,
   "id": "21757165-f625-442f-ab8d-543af3925b93",
   "metadata": {},
   "outputs": [],
   "source": [
    " def reverse_string(s):\n",
    "     return s[::-1]"
   ]
  },
  {
   "cell_type": "code",
   "execution_count": 49,
   "id": "5449abd3-1d34-47f6-b525-0ae866c433b7",
   "metadata": {},
   "outputs": [
    {
     "name": "stdout",
     "output_type": "stream",
     "text": [
      "olleh\n"
     ]
    }
   ],
   "source": [
    " print(reverse_string(\"hello\")) "
   ]
  },
  {
   "cell_type": "code",
   "execution_count": 54,
   "id": "8500a362-df2f-4155-b7a0-523a3a827ac4",
   "metadata": {},
   "outputs": [],
   "source": [
    "# Implement a python function takes a list of integers and returns a new list containing the squares of each numbers."
   ]
  },
  {
   "cell_type": "code",
   "execution_count": 57,
   "id": "274892a0-c082-4a10-8f9c-d3d2cba52cd4",
   "metadata": {},
   "outputs": [],
   "source": [
    " def square_list(numbers):\n",
    "     return [x**2 for x in numbers]"
   ]
  },
  {
   "cell_type": "code",
   "execution_count": 58,
   "id": "5b80a907-43b9-4170-a816-4a32d097d6d3",
   "metadata": {},
   "outputs": [
    {
     "name": "stdout",
     "output_type": "stream",
     "text": [
      "[1, 4, 9]\n"
     ]
    }
   ],
   "source": [
    " print(square_list([1, 2, 3]))"
   ]
  },
  {
   "cell_type": "code",
   "execution_count": 50,
   "id": "e19825c7-945a-4a2f-b08a-5e08451b6dd2",
   "metadata": {},
   "outputs": [],
   "source": [
    "# Write a python function that checks if a given number in prime or not from 1 to 200."
   ]
  },
  {
   "cell_type": "code",
   "execution_count": null,
   "id": "68da93de-265e-4d6d-a631-48d36adbbc5b",
   "metadata": {},
   "outputs": [],
   "source": [
    "def is_prime (n):\n",
    "     if n < 2 or n > 200:\n",
    "         return False\n",
    "     return all(n % i != 0 for i in range(2, int(n**0.5) + "
   ]
  },
  {
   "cell_type": "markdown",
   "id": "5eb5349f-a47e-4526-8bd4-fb19cd189784",
   "metadata": {},
   "source": [
    "print(is_prime(7))\n",
    "print(is_prime(100))"
   ]
  },
  {
   "cell_type": "code",
   "execution_count": 51,
   "id": "98beddd4-5fd8-4d02-b8c3-e1f7664fdc87",
   "metadata": {},
   "outputs": [],
   "source": [
    "# Create an iterator class in python that generates the fibonacci sequence up to a specified numbers of terms."
   ]
  },
  {
   "cell_type": "code",
   "execution_count": null,
   "id": "4d9334f2-22dd-411b-8bc5-7ba501d33dc8",
   "metadata": {},
   "outputs": [],
   "source": [
    "class Fibonacci\n",
    "    def _ _init_ _(self, n):\n",
    "        self.n = n\n",
    "        self.a, self.b = 0, 1\n",
    "        self.count = 0\n",
    "\n",
    "    def_ _iter_ _(self):\n",
    "       return self\n",
    "\n",
    "    def _ _next_ _(self):\n",
    "        if self.count >= self.n:\n",
    "            raise stopiteration\n",
    "        fib = self.a\n",
    "        self.a, self.b = self.b, self.a + self.b\n",
    "        self.count += 1\n",
    "        return fib\n",
    "\n",
    " for num in Fibonacci(10):  \n",
    "     print(num)"
   ]
  },
  {
   "cell_type": "code",
   "execution_count": null,
   "id": "c939a345-277d-47cc-8005-c5e5ba78b33a",
   "metadata": {},
   "outputs": [],
   "source": [
    "# Write a generator function in python that yeilds the power opof 2 up to a given exponent."
   ]
  },
  {
   "cell_type": "code",
   "execution_count": null,
   "id": "2677e56b-2cc5-4b59-868f-011fff28cc88",
   "metadata": {},
   "outputs": [],
   "source": [
    "def powers_of_2(max_exponent):\n",
    "    \"\"\"Generator that yeilds powers of 2 from 2^0 to 2^max_exponent.\"\"\"\n",
    "    for exponent in range(max_exponent + 1):\n",
    "        yeild 2 ** exponent"
   ]
  },
  {
   "cell_type": "code",
   "execution_count": 53,
   "id": "4ea4c46b-445c-406e-8f88-238bdb042edf",
   "metadata": {},
   "outputs": [],
   "source": [
    "# Implement a generator function that reads a file line by line and yeilds each line as aa string."
   ]
  },
  {
   "cell_type": "code",
   "execution_count": null,
   "id": "7411e552-bee7-4bcc-9bf3-ca22f8af50bd",
   "metadata": {},
   "outputs": [],
   "source": [
    " def read_lines(filename):\n",
    "     with open(filename) as f:\n",
    "         for line in f:\n",
    "             yeild line"
   ]
  },
  {
   "cell_type": "code",
   "execution_count": null,
   "id": "ae6f1be3-3f09-4e59-8a11-fc09f5b44729",
   "metadata": {},
   "outputs": [],
   "source": [
    "# Use a lambda function in python to sort a list of tuples based on the second element of each tuple."
   ]
  },
  {
   "cell_type": "code",
   "execution_count": null,
   "id": "ed7aace0-0d74-41db-82e5-c1269d50c583",
   "metadata": {},
   "outputs": [],
   "source": [
    "sorted_list = sorted(tuples_list, key=lambda x: x[1])\n",
    "Replace tuples_list with ypur actual list of tuples."
   ]
  },
  {
   "cell_type": "code",
   "execution_count": null,
   "id": "11caedab-7e48-4fa5-87f2-6be23cfb7a2f",
   "metadata": {},
   "outputs": [],
   "source": [
    "# Write a python program that uses 'map()' to convert a list a temperatures from celsius to fahrenheit."
   ]
  },
  {
   "cell_type": "code",
   "execution_count": null,
   "id": "536f6d4b-eba0-444e-937e-7b7d19e1164b",
   "metadata": {},
   "outputs": [],
   "source": [
    "Celsius = [0, 10, 20, 30]\n",
    "fahreheit = list(map(lambda c: (c * 9/5) + 32, celsius))\n",
    "print(fahrenhit)"
   ]
  },
  {
   "cell_type": "code",
   "execution_count": null,
   "id": "7a3d20c5-70d6-455c-baee-8144f6af8563",
   "metadata": {},
   "outputs": [],
   "source": [
    "# Create a python program that uses 'filter()' to remove all the vowels from a given string."
   ]
  },
  {
   "cell_type": "code",
   "execution_count": null,
   "id": "878df30b-ea8c-4d5b-851d-053eb386130e",
   "metadata": {},
   "outputs": [],
   "source": [
    "print(''.join(filter(lambda x: x.lower() not in 'aeiou' ,\"Hello World')))"
   ]
  },
  {
   "cell_type": "code",
   "execution_count": null,
   "id": "098330ce-f9ae-4f62-9467-492f28bd7c25",
   "metadata": {},
   "outputs": [],
   "source": [
    "# imagine an accounting routine used in a book shop. it works on a list with sublists,which look like this:"
   ]
  },
  {
   "cell_type": "code",
   "execution_count": null,
   "id": "7ada09d8-9f73-4bd9-959f-2c39aa2b6dd3",
   "metadata": {},
   "outputs": [],
   "source": [
    "The goal is to compute the total price per order and return a list of tuples with the format:\n",
    "(order_number, total_price)"
   ]
  },
  {
   "cell_type": "code",
   "execution_count": null,
   "id": "5da69393-b3b3-4906-84c4-50853416bca1",
   "metadata": {},
   "outputs": [],
   "source": [
    "orders =[\n",
    "    (34587, \"Learning python, Mark lutz\", 4, 40.95),\n",
    "    (98762, \"Programming python, mark lutz\", 5, 56.80),\n",
    "    (77226, \"Head first python, paul barry\", 3, 32.95),\n",
    "    (88112, \"Einfuhrung in python3, Bernd klein\", 3, 24.99)\n",
    "] \n",
    "result = list(map(lambda order: (order[0], round9order[2] * order[3], 2)), orders))\n",
    "print(result)"
   ]
  },
  {
   "cell_type": "code",
   "execution_count": null,
   "id": "9133e2bc-9dd6-42a1-8952-a4796f2b1bc8",
   "metadata": {},
   "outputs": [],
   "source": [
    "."
   ]
  },
  {
   "cell_type": "code",
   "execution_count": null,
   "id": "d1b85ec0-6d9d-43fa-84e2-3b202c7c2366",
   "metadata": {},
   "outputs": [],
   "source": []
  }
 ],
 "metadata": {
  "kernelspec": {
   "display_name": "Python 3 (ipykernel)",
   "language": "python",
   "name": "python3"
  },
  "language_info": {
   "codemirror_mode": {
    "name": "ipython",
    "version": 3
   },
   "file_extension": ".py",
   "mimetype": "text/x-python",
   "name": "python",
   "nbconvert_exporter": "python",
   "pygments_lexer": "ipython3",
   "version": "3.12.7"
  }
 },
 "nbformat": 4,
 "nbformat_minor": 5
}
